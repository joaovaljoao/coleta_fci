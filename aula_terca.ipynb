{
  "cells": [
    {
      "cell_type": "markdown",
      "metadata": {
        "id": "cwHX8iBMfHFX"
      },
      "source": [
        "## Conectando ao seu google drive"
      ]
    },
    {
      "cell_type": "code",
      "execution_count": 1,
      "metadata": {
        "colab": {
          "base_uri": "https://localhost:8080/"
        },
        "id": "_aS_KgD8fEIt",
        "outputId": "b2665519-848b-49ae-8a69-55589b7b0da4"
      },
      "outputs": [
        {
          "name": "stdout",
          "output_type": "stream",
          "text": [
            "Mounted at /content/drive\n"
          ]
        }
      ],
      "source": [
        "from google.colab import drive\n",
        "drive.mount('/content/drive')"
      ]
    },
    {
      "cell_type": "code",
      "execution_count": null,
      "metadata": {
        "colab": {
          "base_uri": "https://localhost:8080/"
        },
        "id": "VyL5Y5BUfGvp",
        "outputId": "a786854f-d563-45d3-cffa-9940e1485347"
      },
      "outputs": [],
      "source": [
        "# listar pastas e arquivos\n",
        "!ls '/content/drive/My Drive'"
      ]
    },
    {
      "cell_type": "markdown",
      "metadata": {
        "id": "iAfPvwGkge0i"
      },
      "source": [
        "# Capturando o cardápio do RU"
      ]
    },
    {
      "cell_type": "code",
      "execution_count": null,
      "metadata": {
        "colab": {
          "base_uri": "https://localhost:8080/"
        },
        "id": "Y-y0rIXDfMXu",
        "outputId": "38c7a964-ec99-4bd8-da22-0b6dcb2f53eb"
      },
      "outputs": [],
      "source": [
        "from bs4 import BeautifulSoup\n",
        "import requests\n",
        "\n",
        "# URL alvo\n",
        "url = \"https://ru.unb.br/index.php/cardapio-refeitorio\"\n",
        "\n",
        "def captura_cardapioi_darcy(url):\n",
        "      # Realiza a requisição para a URL\n",
        "      response = requests.get(url)\n",
        "\n",
        "      # Faz o parse do conteúdo HTML\n",
        "      soup = BeautifulSoup(response.text, 'html.parser')\n",
        "\n",
        "      # Procura todos os elementos <a> e verifica se \"Darcy Ribeiro\" está no href\n",
        "      links = soup.find_all('a', href=True)\n",
        "      for link in links:\n",
        "          if \"Darcy\" in link['href']:\n",
        "              return link['href']\n",
        "\n",
        "\n",
        "# Executa a função\n",
        "url_base = \"https://ru.unb.br/\"\n",
        "url_cardapio = captura_cardapioi_darcy(url)\n",
        "print(url_base + url_cardapio)\n"
      ]
    },
    {
      "cell_type": "code",
      "execution_count": 13,
      "metadata": {
        "id": "0B-0vaMIg42k"
      },
      "outputs": [],
      "source": [
        "# salvando o cardápio no drive\n",
        "content = requests.get(url_base + url_cardapio).content\n",
        "with open('/content/drive/My Drive/cardapio_ru.pdf', 'wb') as f:\n",
        "    f.write(content)"
      ]
    },
    {
      "cell_type": "markdown",
      "metadata": {
        "id": "YG3Z-65SjI3u"
      },
      "source": [
        "## Como usar uma função"
      ]
    },
    {
      "cell_type": "code",
      "execution_count": 23,
      "metadata": {
        "colab": {
          "base_uri": "https://localhost:8080/"
        },
        "id": "KOefDlC3i-KF",
        "outputId": "05222e65-40a8-433c-d3a0-b5a0f4d085be"
      },
      "outputs": [
        {
          "name": "stdout",
          "output_type": "stream",
          "text": [
            "A soma dos números é 55\n"
          ]
        }
      ],
      "source": [
        "soma = 0\n",
        "for numero in range(11):\n",
        "  soma = soma + numero\n",
        "print(f\"A soma dos números é {soma}\")"
      ]
    },
    {
      "cell_type": "code",
      "execution_count": 26,
      "metadata": {
        "id": "jl9hgKwtisUt"
      },
      "outputs": [],
      "source": []
    },
    {
      "cell_type": "code",
      "execution_count": 30,
      "metadata": {
        "colab": {
          "base_uri": "https://localhost:8080/"
        },
        "id": "nibaEKs4jIDu",
        "outputId": "7b838cf7-64dd-42e3-9ff9-0bab86a3f7a5"
      },
      "outputs": [
        {
          "name": "stdout",
          "output_type": "stream",
          "text": [
            "A soma de 1 até 15 é: 105\n"
          ]
        }
      ],
      "source": []
    },
    {
      "cell_type": "markdown",
      "metadata": {
        "id": "3A6its5ciVUk"
      },
      "source": [
        "# Terminando com genderize"
      ]
    },
    {
      "cell_type": "code",
      "execution_count": null,
      "metadata": {
        "id": "Kz_Sg3r0l53V"
      },
      "outputs": [],
      "source": [
        "nome = \"kim\""
      ]
    },
    {
      "cell_type": "code",
      "execution_count": null,
      "metadata": {
        "id": "Oz0Y9lXXl4XT"
      },
      "outputs": [],
      "source": [
        "\"https://api.genderize.io?name=\" + nome"
      ]
    },
    {
      "cell_type": "code",
      "execution_count": 43,
      "metadata": {
        "id": "meyvm7I0k5X_"
      },
      "outputs": [],
      "source": [
        "url = \"https://api.genderize.io\"\n",
        "params = {\"name\": nome}"
      ]
    },
    {
      "cell_type": "code",
      "execution_count": null,
      "metadata": {
        "id": "su1JdSkTl7df"
      },
      "outputs": [],
      "source": [
        "conteudo_json = requests.get(url, params=params).json()"
      ]
    },
    {
      "cell_type": "code",
      "execution_count": 44,
      "metadata": {
        "colab": {
          "base_uri": "https://localhost:8080/"
        },
        "id": "vOVDg6NRk_x4",
        "outputId": "a17d2833-264e-40c2-f4ea-86f1d62d04b2"
      },
      "outputs": [
        {
          "data": {
            "text/plain": [
              "{'count': 196245, 'name': 'kim', 'gender': 'female', 'probability': 0.75}"
            ]
          },
          "execution_count": 44,
          "metadata": {},
          "output_type": "execute_result"
        }
      ],
      "source": [
        "conteudo_json"
      ]
    },
    {
      "cell_type": "markdown",
      "metadata": {
        "id": "WQTL2hpGjUjR"
      },
      "source": [
        "## Tranformando tudo em uma função"
      ]
    },
    {
      "cell_type": "code",
      "execution_count": 31,
      "metadata": {
        "id": "U95H0uyJiX0w"
      },
      "outputs": [],
      "source": [
        "# Nome para o qual você quer determinar o gênero\n",
        "lista_urls = []\n",
        "lista = ['joao', 'grazi', 'carlos', 'albert', 'kim']\n",
        "\n",
        "for nome in lista:\n",
        "  url = \"https://api.genderize.io?name=\" + nome\n",
        "  lista_urls.append(url)\n"
      ]
    },
    {
      "cell_type": "code",
      "execution_count": 32,
      "metadata": {
        "id": "eFVp1lHTiarl"
      },
      "outputs": [],
      "source": [
        "resultado = []\n",
        "for url in lista_urls:\n",
        "  r = requests.get(url).json()\n",
        "  resultado.append(r)"
      ]
    },
    {
      "cell_type": "code",
      "execution_count": null,
      "metadata": {
        "colab": {
          "base_uri": "https://localhost:8080/"
        },
        "id": "0ObJHaXmibKu",
        "outputId": "20d83a08-e478-4d8d-ba32-09035a7814b2"
      },
      "outputs": [],
      "source": [
        "resultado"
      ]
    },
    {
      "cell_type": "code",
      "execution_count": 34,
      "metadata": {
        "id": "0-U5wiQTiovk"
      },
      "outputs": [],
      "source": [
        "def determinar_genero(lista_nomes):\n",
        "    lista_urls = []\n",
        "    for nome in lista_nomes:\n",
        "        url = \"https://api.genderize.io?name=\" + nome\n",
        "        lista_urls.append(url)\n",
        "\n",
        "    resultado = []\n",
        "    for url in lista_urls:\n",
        "        r = requests.get(url).json()\n",
        "        resultado.append(r)\n",
        "\n",
        "    return resultado\n"
      ]
    },
    {
      "cell_type": "code",
      "execution_count": null,
      "metadata": {
        "colab": {
          "base_uri": "https://localhost:8080/"
        },
        "id": "GDkC6_9rkAVW",
        "outputId": "37e3cc53-e98e-4a6d-b13d-dc8c0837f872"
      },
      "outputs": [],
      "source": [
        "# Exemplo de uso:\n",
        "nomes = ['joao', 'grazi', 'carlos', 'albert', 'kim']"
      ]
    },
    {
      "cell_type": "code",
      "execution_count": null,
      "metadata": {},
      "outputs": [],
      "source": [
        "determinar_genero(nomes)"
      ]
    },
    {
      "cell_type": "markdown",
      "metadata": {
        "id": "t87YwFjShOwo"
      },
      "source": [
        "# OpenAlex"
      ]
    },
    {
      "cell_type": "code",
      "execution_count": 81,
      "metadata": {
        "id": "tckWsNPYfQ5U"
      },
      "outputs": [],
      "source": [
        "import requests"
      ]
    },
    {
      "cell_type": "code",
      "execution_count": 82,
      "metadata": {
        "id": "qKfnF07je42i"
      },
      "outputs": [],
      "source": [
        "import pandas as pd"
      ]
    },
    {
      "cell_type": "markdown",
      "metadata": {},
      "source": [
        "Link para planilha de ORCIDS"
      ]
    },
    {
      "cell_type": "code",
      "execution_count": null,
      "metadata": {
        "id": "HH8pg8NLpfJZ"
      },
      "outputs": [],
      "source": [
        "url = 'https://raw.githubusercontent.com/joaovaljoao/coleta_fci/refs/heads/main/orcid_fci.xlsx'"
      ]
    },
    {
      "cell_type": "markdown",
      "metadata": {},
      "source": [
        "Lendo e Limpando dados com pandas"
      ]
    },
    {
      "cell_type": "code",
      "execution_count": null,
      "metadata": {},
      "outputs": [],
      "source": []
    },
    {
      "cell_type": "markdown",
      "metadata": {},
      "source": [
        "Acessando API"
      ]
    },
    {
      "cell_type": "code",
      "execution_count": 83,
      "metadata": {
        "id": "JEbqe2oWe7jN"
      },
      "outputs": [],
      "source": [
        "base_url = \"https://api.openalex.org\""
      ]
    },
    {
      "cell_type": "code",
      "execution_count": null,
      "metadata": {
        "id": "k53yJ3l9p90U"
      },
      "outputs": [],
      "source": [
        "base_url + \"/authors/https://orcid.org/{orcid}\""
      ]
    },
    {
      "cell_type": "code",
      "execution_count": null,
      "metadata": {
        "id": "jJYa4eAWpC_g"
      },
      "outputs": [],
      "source": []
    },
    {
      "cell_type": "markdown",
      "metadata": {
        "id": "a8XBmnHehSWn"
      },
      "source": [
        "# Scopus"
      ]
    },
    {
      "cell_type": "code",
      "execution_count": 53,
      "metadata": {
        "id": "aCyh93XjhUbZ"
      },
      "outputs": [],
      "source": [
        "import requests\n",
        "import json\n",
        "\n",
        "# Sua chave de API da Scopus\n",
        "api_key = ''"
      ]
    },
    {
      "cell_type": "code",
      "execution_count": 54,
      "metadata": {
        "id": "5G6loGRchaqi"
      },
      "outputs": [],
      "source": [
        "# URL da API Scopus\n",
        "url = \"https://api.elsevier.com/content/search/scopus\""
      ]
    },
    {
      "cell_type": "code",
      "execution_count": 55,
      "metadata": {
        "id": "hbHS3wdWhjCL"
      },
      "outputs": [],
      "source": [
        "# Termo de pesquisa\n",
        "termo_busca = \"library science\""
      ]
    },
    {
      "cell_type": "code",
      "execution_count": 56,
      "metadata": {
        "id": "jktoFoTnh73t"
      },
      "outputs": [],
      "source": [
        "# Parâmetros para a pesquisa\n",
        "params = {\n",
        "    'query': termo_busca,  # O termo de pesquisa\n",
        "    'count': 10,            # Número de resultados retornados por página\n",
        "    'start': 0,             # Iniciar a busca a partir do primeiro item\n",
        "    'apiKey': api_key,      # Sua chave de API\n",
        "}\n"
      ]
    }
  ],
  "metadata": {
    "colab": {
      "provenance": []
    },
    "kernelspec": {
      "display_name": "Python 3",
      "name": "python3"
    },
    "language_info": {
      "name": "python"
    }
  },
  "nbformat": 4,
  "nbformat_minor": 0
}
